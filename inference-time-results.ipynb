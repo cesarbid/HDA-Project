{
 "cells": [
  {
   "cell_type": "markdown",
   "metadata": {},
   "source": [
    "# Test notebook"
   ]
  },
  {
   "cell_type": "markdown",
   "metadata": {},
   "source": [
    "## Library installation and modules imports\n",
    "We uploaded on PyPi our own library containing the functions needed to define the models and preprocess the images, the ratio for this is to allow for a leaner structure and better redability of the notebook"
   ]
  },
  {
   "cell_type": "code",
   "execution_count": null,
   "metadata": {},
   "outputs": [
    {
     "name": "stdout",
     "output_type": "stream",
     "text": [
      "Collecting Human_Data_Analytics\n",
      "  Downloading Human_Data_Analytics-1.0.0-py3-none-any.whl.metadata (2.3 kB)\n",
      "Downloading Human_Data_Analytics-1.0.0-py3-none-any.whl (18 kB)\n",
      "Installing collected packages: Human_Data_Analytics\n",
      "Successfully installed Human_Data_Analytics-1.0.0\n"
     ]
    }
   ],
   "source": [
    "!pip install Human_Data_Analytics"
   ]
  },
  {
   "cell_type": "code",
   "execution_count": 16,
   "metadata": {
    "execution": {
     "iopub.execute_input": "2024-11-16T17:00:06.953461Z",
     "iopub.status.busy": "2024-11-16T17:00:06.953086Z",
     "iopub.status.idle": "2024-11-16T17:00:06.960335Z",
     "shell.execute_reply": "2024-11-16T17:00:06.959252Z",
     "shell.execute_reply.started": "2024-11-16T17:00:06.953425Z"
    },
    "trusted": true
   },
   "outputs": [],
   "source": [
    "import tensorflow as tf\n",
    "from tensorflow.keras.models import load_model\n",
    "import numpy as np\n",
    "import pandas as pd\n",
    "import os\n",
    "import time\n",
    "\n",
    "# our models uploaded with pypi as a python package\n",
    "from HDA.preprocessing.image_pre_processing import data_generator_patch"
   ]
  },
  {
   "cell_type": "markdown",
   "metadata": {},
   "source": [
    "## Inception-v4"
   ]
  },
  {
   "cell_type": "code",
   "execution_count": 17,
   "metadata": {
    "execution": {
     "iopub.execute_input": "2024-11-16T17:00:06.961870Z",
     "iopub.status.busy": "2024-11-16T17:00:06.961547Z",
     "iopub.status.idle": "2024-11-16T17:00:06.974959Z",
     "shell.execute_reply": "2024-11-16T17:00:06.974084Z",
     "shell.execute_reply.started": "2024-11-16T17:00:06.961838Z"
    },
    "trusted": true
   },
   "outputs": [],
   "source": [
    "num_patches_per_side = 5\n",
    "crop_list={'top': 0.1, 'bottom':0.05, 'left':0.1, 'right':0.1}\n",
    "test_path = \"/kaggle/input/dataset-boneage/test\"\n",
    "inception_model_path = \"/kaggle/input/boneageprediction/tensorflow2/default/35/Inceptionv4.h5\""
   ]
  },
  {
   "cell_type": "code",
   "execution_count": 18,
   "metadata": {
    "execution": {
     "iopub.execute_input": "2024-11-16T17:00:06.977361Z",
     "iopub.status.busy": "2024-11-16T17:00:06.977015Z",
     "iopub.status.idle": "2024-11-16T17:00:13.381625Z",
     "shell.execute_reply": "2024-11-16T17:00:13.380790Z",
     "shell.execute_reply.started": "2024-11-16T17:00:06.977330Z"
    },
    "trusted": true
   },
   "outputs": [],
   "source": [
    "# InceptionV4/ResNet18/ResNet18 with channel attention\n",
    "strategy = tf.distribute.MirroredStrategy()\n",
    "\n",
    "with strategy.scope():\n",
    "    model = load_model(inception_model_path, compile=False)"
   ]
  },
  {
   "cell_type": "code",
   "execution_count": 19,
   "metadata": {
    "execution": {
     "iopub.execute_input": "2024-11-16T17:00:13.383473Z",
     "iopub.status.busy": "2024-11-16T17:00:13.383165Z",
     "iopub.status.idle": "2024-11-16T17:00:13.434343Z",
     "shell.execute_reply": "2024-11-16T17:00:13.433475Z",
     "shell.execute_reply.started": "2024-11-16T17:00:13.383440Z"
    },
    "trusted": true
   },
   "outputs": [
    {
     "name": "stdout",
     "output_type": "stream",
     "text": [
      "Number of validation images: 200\n"
     ]
    }
   ],
   "source": [
    "extracted_files = os.listdir(os.path.join(test_path, 'images'))\n",
    "num_test_images=len(extracted_files)\n",
    "print(\"Number of validation images:\", num_test_images)\n",
    "\n",
    "labels_test = pd.read_csv(os.path.join(test_path, \"labels.csv\"))\n",
    "labels_test_age = labels_test['Bone Age (months)'].to_list()\n",
    "gender_test = labels_test['male'].apply(lambda x: 1 if x == True else 0).to_list()\n",
    "\n",
    "preprocessed_images_test = tf.data.Dataset.from_generator(\n",
    "    lambda: data_generator_patch(os.path.join(test_path, \"images\"),\n",
    "                           gender_test,\n",
    "                           labels_test_age, train = False, \n",
    "                           num_patches_per_side=num_patches_per_side,\n",
    "                           crop_list=crop_list),\n",
    "        output_signature=(\n",
    "        (tf.TensorSpec(shape=(224, 224, 3), dtype=tf.float32, name=\"image\"),  # Input shape\n",
    "        tf.TensorSpec(shape=(), dtype=tf.float32, name=\"gender\")),   # Gender shape\n",
    "        tf.TensorSpec(shape=(), dtype=tf.float32, name=\"label\")   # Target shape\n",
    "    )\n",
    ")\n",
    "\n",
    "# Optionally, you can shuffle and prefetch for performance\n",
    "batch_size = 40\n",
    "preprocessed_images_test = preprocessed_images_test.repeat()\n",
    "preprocessed_images_test = preprocessed_images_test.batch(batch_size)\n",
    "test_dataset = preprocessed_images_test.prefetch(2)\n",
    "test_patch_num = num_patches_per_side**2\n",
    "test_steps = int(np.ceil(len(labels_test_age)/(batch_size/test_patch_num)))"
   ]
  },
  {
   "cell_type": "code",
   "execution_count": 20,
   "metadata": {
    "execution": {
     "iopub.execute_input": "2024-11-16T17:00:13.435657Z",
     "iopub.status.busy": "2024-11-16T17:00:13.435372Z",
     "iopub.status.idle": "2024-11-16T17:00:38.901727Z",
     "shell.execute_reply": "2024-11-16T17:00:38.900609Z",
     "shell.execute_reply.started": "2024-11-16T17:00:13.435625Z"
    },
    "trusted": true
   },
   "outputs": [
    {
     "name": "stdout",
     "output_type": "stream",
     "text": [
      "\u001b[1m125/125\u001b[0m \u001b[32m━━━━━━━━━━━━━━━━━━━━\u001b[0m\u001b[37m\u001b[0m \u001b[1m25s\u001b[0m 124ms/step\n",
      "Median of the patches:  6.338632106781006\n",
      "Time for the full test computation:  25.459535360336304\n"
     ]
    }
   ],
   "source": [
    "start = time.time()\n",
    "test_values = model.predict(test_dataset, steps=test_steps).squeeze() # , steps=test_steps\n",
    "\n",
    "median_predictions = [np.median(test_values[i:i+test_patch_num]) for i in range(0, len(test_values), test_patch_num)]\n",
    "median_loss = tf.keras.losses.MAE(\n",
    "    labels_test_age, median_predictions\n",
    ")\n",
    "end = time.time()\n",
    "\n",
    "print(\"Median of the patches: \",  float(median_loss))\n",
    "print(\"Time for the full test computation: \", end - start)"
   ]
  },
  {
   "cell_type": "markdown",
   "metadata": {},
   "source": [
    "## ResNet18 with Channel Attention"
   ]
  },
  {
   "cell_type": "code",
   "execution_count": 21,
   "metadata": {
    "execution": {
     "iopub.execute_input": "2024-11-16T17:00:38.903493Z",
     "iopub.status.busy": "2024-11-16T17:00:38.903130Z",
     "iopub.status.idle": "2024-11-16T17:00:38.908764Z",
     "shell.execute_reply": "2024-11-16T17:00:38.907705Z",
     "shell.execute_reply.started": "2024-11-16T17:00:38.903457Z"
    },
    "trusted": true
   },
   "outputs": [],
   "source": [
    "num_patches_per_side = 5\n",
    "crop_list={'top': 0.05, 'bottom':0.05, 'left':0.05, 'right':0.05}\n",
    "test_path = \"/kaggle/input/dataset-boneage/test\"\n",
    "resnet_model_path = \"/kaggle/input/boneageprediction/tensorflow2/default/35/ResNet18_channel_attention.h5\""
   ]
  },
  {
   "cell_type": "code",
   "execution_count": 22,
   "metadata": {
    "execution": {
     "iopub.execute_input": "2024-11-16T17:00:38.910456Z",
     "iopub.status.busy": "2024-11-16T17:00:38.910141Z",
     "iopub.status.idle": "2024-11-16T17:00:40.351724Z",
     "shell.execute_reply": "2024-11-16T17:00:40.350623Z",
     "shell.execute_reply.started": "2024-11-16T17:00:38.910423Z"
    },
    "trusted": true
   },
   "outputs": [],
   "source": [
    "# InceptionV4/ResNet18/ResNet18 with channel attention\n",
    "strategy = tf.distribute.MirroredStrategy()\n",
    "\n",
    "with strategy.scope():\n",
    "    model = load_model(resnet_model_path, compile=False)"
   ]
  },
  {
   "cell_type": "code",
   "execution_count": 23,
   "metadata": {
    "execution": {
     "iopub.execute_input": "2024-11-16T17:00:40.353763Z",
     "iopub.status.busy": "2024-11-16T17:00:40.353356Z",
     "iopub.status.idle": "2024-11-16T17:00:40.404146Z",
     "shell.execute_reply": "2024-11-16T17:00:40.403249Z",
     "shell.execute_reply.started": "2024-11-16T17:00:40.353716Z"
    },
    "trusted": true
   },
   "outputs": [
    {
     "name": "stdout",
     "output_type": "stream",
     "text": [
      "Number of validation images: 200\n"
     ]
    }
   ],
   "source": [
    "extracted_files = os.listdir(os.path.join(test_path, 'images'))\n",
    "num_test_images=len(extracted_files)\n",
    "print(\"Number of validation images:\", num_test_images)\n",
    "\n",
    "labels_test = pd.read_csv(os.path.join(test_path, \"labels.csv\"))\n",
    "labels_test_age = labels_test['Bone Age (months)'].to_list()\n",
    "gender_test = labels_test['male'].apply(lambda x: 1 if x == True else 0).to_list()\n",
    "\n",
    "preprocessed_images_test = tf.data.Dataset.from_generator(\n",
    "    lambda: data_generator_patch(os.path.join(test_path, \"images\"),\n",
    "                           gender_test,\n",
    "                           labels_test_age, train = False, \n",
    "                           num_patches_per_side=num_patches_per_side,\n",
    "                           crop_list=crop_list),\n",
    "        output_signature=(\n",
    "        (tf.TensorSpec(shape=(224, 224, 3), dtype=tf.float32, name=\"image\"),  # Input shape\n",
    "        tf.TensorSpec(shape=(), dtype=tf.float32, name=\"gender\")),   # Gender shape\n",
    "        tf.TensorSpec(shape=(), dtype=tf.float32, name=\"label\")   # Target shape\n",
    "    )\n",
    ")\n",
    "\n",
    "# Optionally, you can shuffle and prefetch for performance\n",
    "batch_size = 40\n",
    "preprocessed_images_test = preprocessed_images_test.repeat()\n",
    "preprocessed_images_test = preprocessed_images_test.batch(batch_size)\n",
    "test_dataset = preprocessed_images_test.prefetch(2)\n",
    "test_patch_num = num_patches_per_side**2\n",
    "test_steps = int(np.ceil(len(labels_test_age)/(batch_size/test_patch_num)))"
   ]
  },
  {
   "cell_type": "code",
   "execution_count": 24,
   "metadata": {
    "execution": {
     "iopub.execute_input": "2024-11-16T17:00:40.407460Z",
     "iopub.status.busy": "2024-11-16T17:00:40.407133Z",
     "iopub.status.idle": "2024-11-16T17:00:53.961832Z",
     "shell.execute_reply": "2024-11-16T17:00:53.960742Z",
     "shell.execute_reply.started": "2024-11-16T17:00:40.407428Z"
    },
    "trusted": true
   },
   "outputs": [
    {
     "name": "stdout",
     "output_type": "stream",
     "text": [
      "\u001b[1m125/125\u001b[0m \u001b[32m━━━━━━━━━━━━━━━━━━━━\u001b[0m\u001b[37m\u001b[0m \u001b[1m13s\u001b[0m 89ms/step\n",
      "Median of the patches:  7.614485263824463\n",
      "Time for the full test computation:  13.548022508621216\n"
     ]
    }
   ],
   "source": [
    "start = time.time()\n",
    "test_values = model.predict(test_dataset, steps=test_steps).squeeze() # , steps=test_steps\n",
    "\n",
    "median_predictions = [np.median(test_values[i:i+test_patch_num]) for i in range(0, len(test_values), test_patch_num)]\n",
    "median_loss = tf.keras.losses.MAE(\n",
    "    labels_test_age, median_predictions\n",
    ")\n",
    "end = time.time()\n",
    "\n",
    "print(\"Median of the patches: \",  float(median_loss))\n",
    "print(\"Time for the full test computation: \", end - start)"
   ]
  }
 ],
 "metadata": {
  "kaggle": {
   "accelerator": "nvidiaTeslaT4",
   "dataSources": [
    {
     "datasetId": 5947139,
     "sourceId": 9737521,
     "sourceType": "datasetVersion"
    },
    {
     "isSourceIdPinned": true,
     "modelId": 154508,
     "modelInstanceId": 131706,
     "sourceId": 168132,
     "sourceType": "modelInstanceVersion"
    }
   ],
   "isGpuEnabled": true,
   "isInternetEnabled": true,
   "language": "python",
   "sourceType": "notebook"
  },
  "kernelspec": {
   "display_name": "Python 3",
   "language": "python",
   "name": "python3"
  },
  "language_info": {
   "codemirror_mode": {
    "name": "ipython",
    "version": 3
   },
   "file_extension": ".py",
   "mimetype": "text/x-python",
   "name": "python",
   "nbconvert_exporter": "python",
   "pygments_lexer": "ipython3",
   "version": "3.10.14"
  }
 },
 "nbformat": 4,
 "nbformat_minor": 4
}
